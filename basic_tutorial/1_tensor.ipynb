{
  "nbformat": 4,
  "nbformat_minor": 0,
  "metadata": {
    "colab": {
      "provenance": [],
      "gpuType": "T4",
      "authorship_tag": "ABX9TyMpEnRA0isUvSvcLb9ewNtk",
      "include_colab_link": true
    },
    "kernelspec": {
      "name": "python3",
      "display_name": "Python 3"
    },
    "language_info": {
      "name": "python"
    },
    "accelerator": "GPU"
  },
  "cells": [
    {
      "cell_type": "markdown",
      "metadata": {
        "id": "view-in-github",
        "colab_type": "text"
      },
      "source": [
        "<a href=\"https://colab.research.google.com/github/kimsooyoung/pytorch_til/blob/main/basic_tutorial/1_tensor.ipynb\" target=\"_parent\"><img src=\"https://colab.research.google.com/assets/colab-badge.svg\" alt=\"Open In Colab\"/></a>"
      ]
    },
    {
      "cell_type": "code",
      "execution_count": null,
      "metadata": {
        "id": "Og0_qVfpa5tF"
      },
      "outputs": [],
      "source": [
        "import torch\n",
        "import numpy as np"
      ]
    },
    {
      "cell_type": "markdown",
      "source": [
        "데이터로부터 직접(directly) 생성하기"
      ],
      "metadata": {
        "id": "-Vpxf86vbNqN"
      }
    },
    {
      "cell_type": "code",
      "source": [
        "data = [[1,2], [3,4]]\n",
        "x_data = torch.tensor(data)"
      ],
      "metadata": {
        "id": "OA_K0M6ObCK8"
      },
      "execution_count": null,
      "outputs": []
    },
    {
      "cell_type": "markdown",
      "source": [
        "NumPy 배열로부터 생성하기"
      ],
      "metadata": {
        "id": "to_4Y_uybOY9"
      }
    },
    {
      "cell_type": "code",
      "source": [
        "np_arr = np.array(data)\n",
        "x_np = torch.tensor(np_arr)"
      ],
      "metadata": {
        "id": "ee75EamLbKzK"
      },
      "execution_count": null,
      "outputs": []
    },
    {
      "cell_type": "markdown",
      "source": [
        "다른 텐서로부터 생성하기:"
      ],
      "metadata": {
        "id": "YLqA8mEcbWmd"
      }
    },
    {
      "cell_type": "code",
      "source": [
        "x_ones = torch.ones_like(x_data) # x_data의 속성을 유지합니다.\n",
        "print(f\"Ones Tensor: \\n {x_ones} \\n\")"
      ],
      "metadata": {
        "colab": {
          "base_uri": "https://localhost:8080/"
        },
        "id": "Jt0qKdDJbVO_",
        "outputId": "872a8ea6-4edb-4c37-fddc-b307f791ed15"
      },
      "execution_count": null,
      "outputs": [
        {
          "output_type": "stream",
          "name": "stdout",
          "text": [
            "Ones Tensor: \n",
            " tensor([[1, 1],\n",
            "        [1, 1]]) \n",
            "\n"
          ]
        }
      ]
    },
    {
      "cell_type": "code",
      "source": [
        "x_rand = torch.rand_like(x_data, dtype=torch.float) # x_data의 속성을 덮어씁니다.\n",
        "print(f\"Random Tensor: \\n {x_rand} \\n\")"
      ],
      "metadata": {
        "colab": {
          "base_uri": "https://localhost:8080/"
        },
        "id": "m6NePHksbhXU",
        "outputId": "4d783cea-1d9e-4a3c-886d-f9a00ac14630"
      },
      "execution_count": null,
      "outputs": [
        {
          "output_type": "stream",
          "name": "stdout",
          "text": [
            "Random Tensor: \n",
            " tensor([[0.1264, 0.2436],\n",
            "        [0.8944, 0.3017]]) \n",
            "\n"
          ]
        }
      ]
    },
    {
      "cell_type": "markdown",
      "source": [
        "무작위(random) 또는 상수(constant) 값을 사용하기:\n",
        "\n",
        "shape 은 텐서의 차원(dimension)을 나타내는 튜플(tuple)로, 아래 함수들에서는 출력 텐서의 차원을 결정합니다."
      ],
      "metadata": {
        "id": "UYjlpe1Xbsan"
      }
    },
    {
      "cell_type": "code",
      "source": [
        "shape = (2,3,) # 쉼표 하나 더 붙이는 것은 관습인 것 같다.\n",
        "rand_tensor = torch.rand(shape)\n",
        "ones_tensor = torch.ones(shape)\n",
        "zeros_tensor = torch.zeros(shape)\n",
        "\n",
        "print(f\"Random Tensor: \\n {rand_tensor} \\n\")\n",
        "print(f\"Ones Tensor: \\n {ones_tensor} \\n\")\n",
        "print(f\"Zeros Tensor: \\n {zeros_tensor}\")"
      ],
      "metadata": {
        "colab": {
          "base_uri": "https://localhost:8080/"
        },
        "id": "5PftBujWbqdg",
        "outputId": "609cbfab-0492-42fd-a322-fc1cb196edf3"
      },
      "execution_count": null,
      "outputs": [
        {
          "output_type": "stream",
          "name": "stdout",
          "text": [
            "Random Tensor: \n",
            " tensor([[0.6110, 0.1384, 0.5931],\n",
            "        [0.9523, 0.1916, 0.1194]]) \n",
            "\n",
            "Ones Tensor: \n",
            " tensor([[1., 1., 1.],\n",
            "        [1., 1., 1.]]) \n",
            "\n",
            "Zeros Tensor: \n",
            " tensor([[0., 0., 0.],\n",
            "        [0., 0., 0.]])\n"
          ]
        }
      ]
    },
    {
      "cell_type": "markdown",
      "source": [
        "텐서의 속성(Attribute)"
      ],
      "metadata": {
        "id": "V_cVjjMZcMW7"
      }
    },
    {
      "cell_type": "code",
      "source": [
        "tensor = torch.rand(3,4) # columns 3 / rows 4\n",
        "\n",
        "print(f\"Shape of tensor: {tensor.shape}\")\n",
        "print(f\"Datatype of tensor: {tensor.dtype}\")\n",
        "print(f\"Device tensor is stored on: {tensor.device}\")"
      ],
      "metadata": {
        "colab": {
          "base_uri": "https://localhost:8080/"
        },
        "id": "z7FCHI6Pb8-D",
        "outputId": "efd111b3-483e-4e27-9eed-09cdad2af7c7"
      },
      "execution_count": null,
      "outputs": [
        {
          "output_type": "stream",
          "name": "stdout",
          "text": [
            "Shape of tensor: torch.Size([3, 4])\n",
            "Datatype of tensor: torch.float32\n",
            "Device tensor is stored on: cpu\n"
          ]
        }
      ]
    },
    {
      "cell_type": "markdown",
      "source": [
        "텐서 연산(Operation)"
      ],
      "metadata": {
        "id": "Qm5CrFyOcTHG"
      }
    },
    {
      "cell_type": "code",
      "source": [
        "if torch.cuda.is_available():\n",
        "  tensor = tensor.to(\"cuda\")\n",
        "print(f\"Device tensor is stored on: {tensor.device}\")"
      ],
      "metadata": {
        "colab": {
          "base_uri": "https://localhost:8080/"
        },
        "id": "GegzCnAFcRJF",
        "outputId": "2455950a-700d-4785-fc4f-abe3ebdaed87"
      },
      "execution_count": null,
      "outputs": [
        {
          "output_type": "stream",
          "name": "stdout",
          "text": [
            "Device tensor is stored on: cuda:0\n"
          ]
        }
      ]
    },
    {
      "cell_type": "markdown",
      "source": [
        "NumPy식의 표준 인덱싱과 슬라이싱:"
      ],
      "metadata": {
        "id": "hZqdbIhNcnDR"
      }
    },
    {
      "cell_type": "code",
      "source": [
        "print(f\"First row: {tensor[0]}\")\n",
        "print(f\"First column: {tensor[:, 0]}\")\n",
        "print(f\"Last column: {tensor[..., -1]}\")\n",
        "tensor[:,1] = 0\n",
        "print(tensor)"
      ],
      "metadata": {
        "colab": {
          "base_uri": "https://localhost:8080/"
        },
        "id": "toDFDkfucfJv",
        "outputId": "014dfd70-397a-4aa6-a771-ca37e2082f2d"
      },
      "execution_count": null,
      "outputs": [
        {
          "output_type": "stream",
          "name": "stdout",
          "text": [
            "First row: tensor([0.9707, 0.3103, 0.3791, 0.2772], device='cuda:0')\n",
            "First column: tensor([0.9707, 0.9246, 0.7975], device='cuda:0')\n",
            "Last column: tensor([0.2772, 0.4052, 0.5682], device='cuda:0')\n",
            "tensor([[0.9707, 0.0000, 0.3791, 0.2772],\n",
            "        [0.9246, 0.0000, 0.4795, 0.4052],\n",
            "        [0.7975, 0.0000, 0.3255, 0.5682]], device='cuda:0')\n"
          ]
        }
      ]
    },
    {
      "cell_type": "markdown",
      "source": [
        "텐서 합치기"
      ],
      "metadata": {
        "id": "UaATbr5Kc9q3"
      }
    },
    {
      "cell_type": "code",
      "source": [
        "t1 = torch.cat([tensor, tensor, tensor], dim=1)\n",
        "print(t1)"
      ],
      "metadata": {
        "colab": {
          "base_uri": "https://localhost:8080/"
        },
        "id": "-XLIzv6JcxUw",
        "outputId": "7b0217f0-b6eb-4249-bb78-45b45926b73f"
      },
      "execution_count": null,
      "outputs": [
        {
          "output_type": "stream",
          "name": "stdout",
          "text": [
            "tensor([[0.9707, 0.0000, 0.3791, 0.2772, 0.9707, 0.0000, 0.3791, 0.2772, 0.9707,\n",
            "         0.0000, 0.3791, 0.2772],\n",
            "        [0.9246, 0.0000, 0.4795, 0.4052, 0.9246, 0.0000, 0.4795, 0.4052, 0.9246,\n",
            "         0.0000, 0.4795, 0.4052],\n",
            "        [0.7975, 0.0000, 0.3255, 0.5682, 0.7975, 0.0000, 0.3255, 0.5682, 0.7975,\n",
            "         0.0000, 0.3255, 0.5682]], device='cuda:0')\n"
          ]
        }
      ]
    },
    {
      "cell_type": "markdown",
      "source": [
        "산술 연산(Arithmetic operations)"
      ],
      "metadata": {
        "id": "O6InT5RPdGZJ"
      }
    },
    {
      "cell_type": "code",
      "source": [
        "t = torch.rand(4, 4)\n",
        "y1 = t @ t.T\n",
        "y2 = t.matmul(t.T)\n",
        "\n",
        "y3 = torch.rand_like(y1)\n",
        "torch.matmul(t, t.T, out=y3)\n",
        "print(y1, y2, y3)"
      ],
      "metadata": {
        "id": "WEPid8rrc_LL",
        "colab": {
          "base_uri": "https://localhost:8080/"
        },
        "outputId": "46fcb98d-e7ea-4c85-b7e2-b805bd4723be"
      },
      "execution_count": null,
      "outputs": [
        {
          "output_type": "stream",
          "name": "stdout",
          "text": [
            "tensor([[1.4434, 1.1497, 1.3898, 1.1401],\n",
            "        [1.1497, 1.4209, 1.0970, 0.9370],\n",
            "        [1.3898, 1.0970, 1.5132, 1.2634],\n",
            "        [1.1401, 0.9370, 1.2634, 1.1546]]) tensor([[1.4434, 1.1497, 1.3898, 1.1401],\n",
            "        [1.1497, 1.4209, 1.0970, 0.9370],\n",
            "        [1.3898, 1.0970, 1.5132, 1.2634],\n",
            "        [1.1401, 0.9370, 1.2634, 1.1546]]) tensor([[1.4434, 1.1497, 1.3898, 1.1401],\n",
            "        [1.1497, 1.4209, 1.0970, 0.9370],\n",
            "        [1.3898, 1.0970, 1.5132, 1.2634],\n",
            "        [1.1401, 0.9370, 1.2634, 1.1546]])\n"
          ]
        }
      ]
    },
    {
      "cell_type": "markdown",
      "source": [
        "단일-요소(single-element)\n",
        "\n",
        "텐서 텐서의 모든 값을 하나로 집계(aggregate)하여 요소가 하나인 텐서의 경우, item() 을 사용하여 Python 숫자 값으로 변환할 수 있습니다:"
      ],
      "metadata": {
        "id": "S2SZMgpIda_G"
      }
    },
    {
      "cell_type": "code",
      "source": [
        "agg = tensor.sum()\n",
        "agg_item = agg.item()\n",
        "print(agg_item, type(agg_item))"
      ],
      "metadata": {
        "colab": {
          "base_uri": "https://localhost:8080/"
        },
        "id": "oOCmlBYgd7pU",
        "outputId": "eb803508-09a9-4a91-91fc-7d4d695a3795"
      },
      "execution_count": null,
      "outputs": [
        {
          "output_type": "stream",
          "name": "stdout",
          "text": [
            "5.127335071563721 <class 'float'>\n"
          ]
        }
      ]
    },
    {
      "cell_type": "markdown",
      "source": [
        "바꿔치기(in-place)\n",
        "\n",
        "연산 연산 결과를 피연산자(operand)에 저장하는 연산을 바꿔치기 연산이라고 부르며, _ 접미사를 갖습니다. 예를 들어: x.copy_(y) 나 x.t_() 는 x 를 변경합니다.\n",
        "\n",
        "바꿔치기 연산은 메모리를 일부 절약하지만, 기록(history)이 즉시 삭제되어 도함수(derivative) 계산에 문제가 발생할 수 있습니다. 따라서, 사용을 권장하지 않습니다.\n",
        "\n"
      ],
      "metadata": {
        "id": "NnfHRQmOeFQ4"
      }
    },
    {
      "cell_type": "code",
      "source": [
        "print(f\"{tensor} \\n\")\n",
        "tensor.add_(5)\n",
        "print(tensor)"
      ],
      "metadata": {
        "colab": {
          "base_uri": "https://localhost:8080/"
        },
        "id": "ClZA5JB5eJnn",
        "outputId": "997fd193-72b2-40d9-c157-fd81e7a44952"
      },
      "execution_count": null,
      "outputs": [
        {
          "output_type": "stream",
          "name": "stdout",
          "text": [
            "tensor([[0.9707, 0.0000, 0.3791, 0.2772],\n",
            "        [0.9246, 0.0000, 0.4795, 0.4052],\n",
            "        [0.7975, 0.0000, 0.3255, 0.5682]], device='cuda:0') \n",
            "\n",
            "tensor([[5.9707, 5.0000, 5.3791, 5.2772],\n",
            "        [5.9246, 5.0000, 5.4795, 5.4052],\n",
            "        [5.7975, 5.0000, 5.3255, 5.5682]], device='cuda:0')\n"
          ]
        }
      ]
    },
    {
      "cell_type": "markdown",
      "source": [
        "## NumPy 변환(Bridge)\n",
        "\n",
        "CPU 상의 텐서와 NumPy 배열은 메모리 공간을 공유하기 때문에, 하나를 변경하면 다른 하나도 변경됩니다.\n",
        "\n"
      ],
      "metadata": {
        "id": "B6rHpq_peQZl"
      }
    },
    {
      "cell_type": "markdown",
      "source": [
        "텐서를 NumPy 배열로 변환하기"
      ],
      "metadata": {
        "id": "S4USuv1aeWAT"
      }
    },
    {
      "cell_type": "code",
      "source": [
        "t = torch.ones(5)\n",
        "print(f\"t: {t}\")\n",
        "n = t.numpy()\n",
        "print(f\"n: {n}\")"
      ],
      "metadata": {
        "colab": {
          "base_uri": "https://localhost:8080/"
        },
        "id": "r4RU4In7eaZ5",
        "outputId": "1df6bd8b-6bce-41f6-f071-ca7f425a8819"
      },
      "execution_count": null,
      "outputs": [
        {
          "output_type": "stream",
          "name": "stdout",
          "text": [
            "t: tensor([1., 1., 1., 1., 1.])\n",
            "n: [1. 1. 1. 1. 1.]\n"
          ]
        }
      ]
    },
    {
      "cell_type": "markdown",
      "source": [
        "텐서의 변경 사항이 NumPy 배열에 반영됩니다."
      ],
      "metadata": {
        "id": "8hHhhYL9elsV"
      }
    },
    {
      "cell_type": "code",
      "source": [
        "t.add_(1)\n",
        "print(f\"t: {t}\")\n",
        "print(f\"n: {n}\")"
      ],
      "metadata": {
        "colab": {
          "base_uri": "https://localhost:8080/"
        },
        "id": "BWvkxCfbeovO",
        "outputId": "9f546b0e-f5e2-4b5b-fe05-143477c39926"
      },
      "execution_count": null,
      "outputs": [
        {
          "output_type": "stream",
          "name": "stdout",
          "text": [
            "t: tensor([2., 2., 2., 2., 2.])\n",
            "n: [2. 2. 2. 2. 2.]\n"
          ]
        }
      ]
    },
    {
      "cell_type": "markdown",
      "source": [
        "NumPy 배열을 텐서로 변환하기"
      ],
      "metadata": {
        "id": "fyGABX_1erNE"
      }
    },
    {
      "cell_type": "code",
      "source": [
        "n = np.ones(5)\n",
        "t = torch.from_numpy(n)"
      ],
      "metadata": {
        "id": "XogtoV1WetZ7"
      },
      "execution_count": null,
      "outputs": []
    },
    {
      "cell_type": "markdown",
      "source": [
        "NumPy 배열의 변경 사항이 텐서에 반영됩니다."
      ],
      "metadata": {
        "id": "7YLtsgdTe27x"
      }
    },
    {
      "cell_type": "code",
      "source": [
        "np.add(n, 1, out=n)\n",
        "print(f\"t: {t}\")\n",
        "print(f\"n: {n}\")"
      ],
      "metadata": {
        "colab": {
          "base_uri": "https://localhost:8080/"
        },
        "id": "z-vRwG7Te4h4",
        "outputId": "67f470e1-d78a-4551-bfa5-05d8d5a5582e"
      },
      "execution_count": null,
      "outputs": [
        {
          "output_type": "stream",
          "name": "stdout",
          "text": [
            "t: tensor([2., 2., 2., 2., 2.], dtype=torch.float64)\n",
            "n: [2. 2. 2. 2. 2.]\n"
          ]
        }
      ]
    },
    {
      "cell_type": "markdown",
      "source": [
        "torch.tensor를 쓰면 갱신 안된다!"
      ],
      "metadata": {
        "id": "XueCHO0hfAQl"
      }
    },
    {
      "cell_type": "code",
      "source": [
        "n2 = np.ones(5)\n",
        "t2 = torch.tensor(n2)"
      ],
      "metadata": {
        "id": "kyJNySKHe6cY"
      },
      "execution_count": null,
      "outputs": []
    },
    {
      "cell_type": "code",
      "source": [
        "np.add(n2, 1, out=n2)\n",
        "print(f\"t2: {t2}\")\n",
        "print(f\"n2: {n2}\")"
      ],
      "metadata": {
        "colab": {
          "base_uri": "https://localhost:8080/"
        },
        "id": "Tzt7oLNqfEBR",
        "outputId": "34598ec2-e0ed-4320-c44c-de352a16f661"
      },
      "execution_count": null,
      "outputs": [
        {
          "output_type": "stream",
          "name": "stdout",
          "text": [
            "t2: tensor([1., 1., 1., 1., 1.], dtype=torch.float64)\n",
            "n2: [2. 2. 2. 2. 2.]\n"
          ]
        }
      ]
    },
    {
      "cell_type": "code",
      "source": [],
      "metadata": {
        "id": "5ndO8i9_fE43"
      },
      "execution_count": null,
      "outputs": []
    }
  ]
}