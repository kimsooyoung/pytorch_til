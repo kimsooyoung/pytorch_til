{
  "nbformat": 4,
  "nbformat_minor": 0,
  "metadata": {
    "colab": {
      "provenance": [],
      "gpuType": "T4",
      "authorship_tag": "ABX9TyPg5mqDhlg6VAjZLIAtZ5qp",
      "include_colab_link": true
    },
    "kernelspec": {
      "name": "python3",
      "display_name": "Python 3"
    },
    "language_info": {
      "name": "python"
    },
    "accelerator": "GPU"
  },
  "cells": [
    {
      "cell_type": "markdown",
      "metadata": {
        "id": "view-in-github",
        "colab_type": "text"
      },
      "source": [
        "<a href=\"https://colab.research.google.com/github/kimsooyoung/pytorch_til/blob/main/youtube_series/1_introduction_to_pytorch.ipynb\" target=\"_parent\"><img src=\"https://colab.research.google.com/assets/colab-badge.svg\" alt=\"Open In Colab\"/></a>"
      ]
    },
    {
      "cell_type": "code",
      "execution_count": null,
      "metadata": {
        "id": "xTrDHzsg7UyQ"
      },
      "outputs": [],
      "source": [
        "import torch"
      ]
    },
    {
      "cell_type": "markdown",
      "source": [
        "몇 가지 기본적인 tensor 조작을 알아보겠습니다. 처음으로, tensor들을 만드는 몇 가지 방법을 살펴보겠습니다:"
      ],
      "metadata": {
        "id": "NlRmY9K77Zn2"
      }
    },
    {
      "cell_type": "code",
      "source": [
        "z = torch.zeros(5, 3)\n",
        "print(z)\n",
        "print(z.type)"
      ],
      "metadata": {
        "colab": {
          "base_uri": "https://localhost:8080/"
        },
        "id": "1YOfwW7o7bIg",
        "outputId": "a9f0cf52-adbd-4766-ca41-dbf65b99d53f"
      },
      "execution_count": null,
      "outputs": [
        {
          "output_type": "stream",
          "name": "stdout",
          "text": [
            "tensor([[0., 0., 0.],\n",
            "        [0., 0., 0.],\n",
            "        [0., 0., 0.],\n",
            "        [0., 0., 0.],\n",
            "        [0., 0., 0.]])\n",
            "<built-in method type of Tensor object at 0x7e679014b010>\n"
          ]
        }
      ]
    },
    {
      "cell_type": "markdown",
      "source": [
        "위에서, 0으로 채워진 5x3 행렬을 만들고, 파이토치의 **기본 타입인, 0으로 채워진 32비트 부동소수점** 데이터 타입인지 확인합니다.\n",
        "\n",
        "\n",
        "> 만약 정수형 데이터 타입을 원한다면 기본값을 재정의할 수 있습니다:"
      ],
      "metadata": {
        "id": "g5WRHp0J7fxn"
      }
    },
    {
      "cell_type": "code",
      "source": [
        "i = torch.ones((5, 3), dtype=torch.int16)\n",
        "print(i)"
      ],
      "metadata": {
        "colab": {
          "base_uri": "https://localhost:8080/"
        },
        "id": "0Br3N2xt7jEF",
        "outputId": "081cb5a0-90af-4ee7-843a-a995111b351b"
      },
      "execution_count": null,
      "outputs": [
        {
          "output_type": "stream",
          "name": "stdout",
          "text": [
            "tensor([[1, 1, 1],\n",
            "        [1, 1, 1],\n",
            "        [1, 1, 1],\n",
            "        [1, 1, 1],\n",
            "        [1, 1, 1]], dtype=torch.int16)\n"
          ]
        }
      ]
    },
    {
      "cell_type": "markdown",
      "source": [
        "dtype의 기본값을 변경하면 tensor가 출력될 때 데이터 타입을 확인할 수 있습니다.\n",
        "\n",
        "\n",
        "학습 가중치를 무작위로 초기화하는 것이 일반적이며, 종종 결과의 재현성을 위해 PRNG에 대한 특정 시드로 초기화합니다."
      ],
      "metadata": {
        "id": "FZD_e1GJ7xQt"
      }
    },
    {
      "cell_type": "code",
      "source": [
        "torch.manual_seed(1729)\n",
        "r1 = torch.rand(2, 2)\n",
        "print('랜덤 tensor 값:')\n",
        "print(r1)\n",
        "\n",
        "r2 = torch.rand(2, 2)\n",
        "print('\\n다른 랜덤 tensor 값:')\n",
        "print(r2) # 새로운 2x2 행렬 값\n",
        "\n",
        "torch.manual_seed(1729)\n",
        "r3 = torch.rand(2, 2)\n",
        "print('\\nr1과 일치:')\n",
        "print(r3) # 동일한 시드값으로 인해 r1 값이 반복되어 행렬값으로 나옵니다."
      ],
      "metadata": {
        "colab": {
          "base_uri": "https://localhost:8080/"
        },
        "id": "O6WNhDBR7_cT",
        "outputId": "ce385098-1527-41c6-ea7f-348ee6605bf7"
      },
      "execution_count": null,
      "outputs": [
        {
          "output_type": "stream",
          "name": "stdout",
          "text": [
            "랜덤 tensor 값:\n",
            "tensor([[0.3126, 0.3791],\n",
            "        [0.3087, 0.0736]])\n",
            "\n",
            "다른 랜덤 tensor 값:\n",
            "tensor([[0.4216, 0.0691],\n",
            "        [0.2332, 0.4047]])\n",
            "\n",
            "r1과 일치:\n",
            "tensor([[0.3126, 0.3791],\n",
            "        [0.3087, 0.0736]])\n"
          ]
        }
      ]
    },
    {
      "cell_type": "markdown",
      "source": [
        "PyTorch tensor는 산술 연산을 직관적으로 수행합니다. 유사한 shape의 tensor들이 더하거나 곱하거나 그 외 연산도 가능합니다. 스칼라를 사용한 연산은 tensor에 분산됩니다."
      ],
      "metadata": {
        "id": "Z64w07gf8Agj"
      }
    },
    {
      "cell_type": "code",
      "source": [
        "ones = torch.ones(2, 3)\n",
        "print(ones)\n",
        "\n",
        "twos = torch.ones(2, 3) * 2\n",
        "print(twos)\n",
        "\n",
        "threes = ones + twos\n",
        "print(threes)\n",
        "print(threes.shape)\n",
        "\n",
        "r1 = torch.rand(2, 3)\n",
        "r2 = torch.rand(3, 2)\n",
        "# 런타임 오류를 발생시키려면 아래 줄의 주석을 해제합니다.\n",
        "# r3 = r1 + r2"
      ],
      "metadata": {
        "colab": {
          "base_uri": "https://localhost:8080/"
        },
        "id": "6Mbo3w6P8IIr",
        "outputId": "d0a1d030-b63e-41db-f0e2-d413cfc13bd8"
      },
      "execution_count": null,
      "outputs": [
        {
          "output_type": "stream",
          "name": "stdout",
          "text": [
            "tensor([[1., 1., 1.],\n",
            "        [1., 1., 1.]])\n",
            "tensor([[2., 2., 2.],\n",
            "        [2., 2., 2.]])\n",
            "tensor([[3., 3., 3.],\n",
            "        [3., 3., 3.]])\n",
            "torch.Size([2, 3])\n"
          ]
        }
      ]
    },
    {
      "cell_type": "markdown",
      "source": [
        "다음은 사용 가능한 작은 수학 연산 예제 입니다:\n",
        "\n"
      ],
      "metadata": {
        "id": "44aPldHz8YJa"
      }
    },
    {
      "cell_type": "code",
      "source": [
        "r = (torch.rand(2, 2) - 0.5) * 2 # -1과 1 사이의 값을 가집니다.\n",
        "print('랜덤 행렬값, r:')\n",
        "print(r)\n",
        "\n",
        "# 일반적인 수학적 연산은 다음과 같이 지원됩니다:\n",
        "print('\\nr의 절대값:')\n",
        "print(torch.abs(r))\n",
        "\n",
        "# 삼각함수를 사용할 수 있습니다:\n",
        "print('\\nr의 역 사인 함수:')\n",
        "print(torch.asin(r))\n",
        "\n",
        "# 행렬식 및 특이값 분해와 같은 선형 대수 연산을 사용할 수 있습니다.\n",
        "print('\\nr의 행렬식:')\n",
        "print(torch.det(r))\n",
        "print('\\nr의 특이값 분해:')\n",
        "print(torch.svd(r))\n",
        "\n",
        "# 통계 및 집합 연산 등을 사용할 수 있습니다:\n",
        "print('\\nr의 평균 및 표준편차:')\n",
        "print(torch.std_mean(r))\n",
        "print('\\nr의 최대값:')\n",
        "print(torch.max(r))"
      ],
      "metadata": {
        "colab": {
          "base_uri": "https://localhost:8080/"
        },
        "id": "-g_jeRkI8aKw",
        "outputId": "bdee19c2-89f5-423f-cf91-3c3b8a13e8fd"
      },
      "execution_count": null,
      "outputs": [
        {
          "output_type": "stream",
          "name": "stdout",
          "text": [
            "랜덤 행렬값, r:\n",
            "tensor([[ 0.9956, -0.2232],\n",
            "        [ 0.3858, -0.6593]])\n",
            "\n",
            "r의 절대값:\n",
            "tensor([[0.9956, 0.2232],\n",
            "        [0.3858, 0.6593]])\n",
            "\n",
            "r의 역 사인 함수:\n",
            "tensor([[ 1.4775, -0.2251],\n",
            "        [ 0.3961, -0.7199]])\n",
            "\n",
            "r의 행렬식:\n",
            "tensor(-0.5703)\n",
            "\n",
            "r의 특이값 분해:\n",
            "torch.return_types.svd(\n",
            "U=tensor([[-0.8353, -0.5497],\n",
            "        [-0.5497,  0.8353]]),\n",
            "S=tensor([1.1793, 0.4836]),\n",
            "V=tensor([[-0.8851, -0.4654],\n",
            "        [ 0.4654, -0.8851]]))\n",
            "\n",
            "r의 평균 및 표준편차:\n",
            "(tensor(0.7217), tensor(0.1247))\n",
            "\n",
            "r의 최대값:\n",
            "tensor(0.9956)\n"
          ]
        }
      ]
    },
    {
      "cell_type": "markdown",
      "source": [
        "GPU에서 병렬 연산을 위해 설정하는 방법을 포함하여 PyTorch tensor의 강력함에 대해 알아야 할 것이 있습니다. 이 내용은 다른 영상에서 자세히 살펴보겠습니다."
      ],
      "metadata": {
        "id": "O4kNRxD48gXf"
      }
    },
    {
      "cell_type": "markdown",
      "source": [
        "## PyTorch Models\n",
        "\n",
        "\n",
        "PyTorch에서 Model을 표현할 수 있는 방법에 대해 알아보겠습니다."
      ],
      "metadata": {
        "id": "OV9dXFpv8jdT"
      }
    },
    {
      "cell_type": "code",
      "source": [
        "import torch                     # PyTorch 모든 모듈 가져오기\n",
        "import torch.nn as nn            # torch.nn.Module의 경우 PyTorch model의 부모 객체\n",
        "import torch.nn.functional as F  # 활성화 함수 모듈 가져오기"
      ],
      "metadata": {
        "id": "0uTxjHzA8lNr"
      },
      "execution_count": null,
      "outputs": []
    },
    {
      "cell_type": "markdown",
      "source": [
        "![](https://tutorials.pytorch.kr/_images/mnist.png)\n",
        "\n",
        "LeNet-5가 어떻게 동작하는지에 대한 간단한 설명은 다음과 같습니다:\n",
        "\n",
        "- 계층 C1은 합성곱 계층입니다. 즉, 입력 이미지에서 학습 중에 배웠던 특징을 검색합니다. 이미지에서 학습된 각 특징을 위치에 대한 출력 맵을 보여줍니다. 이 “활성화 맵” 으로 S2 계층에서 다운샘플링됩니다.\n",
        "- 계층 C3는 다른 합성곱 계층으로, 이 시점은 특징들의 조합 을 위해 C1 활성화 맵 검색합니다. 또한, 계층 S4에서 다운샘플링된 이러한 특징 조합의 spatial locations을 제공합니다.\n",
        "- 마지막으로, 완전 연결 계층(fully-connected layers)인 F5, F6, OUTPUT은 최종 활성화 맵을 가져와 십진수를 표현하는 10개의 bin 중 하나로 분류 하는 분류기입니다.\n",
        "\n",
        "> 이 간단한 신경망을 코드로 어떻게 표현할 수 있을까요?\n",
        "\n"
      ],
      "metadata": {
        "id": "yG5GB4tL90vi"
      }
    },
    {
      "cell_type": "code",
      "source": [
        "class LeNet(nn.Module):\n",
        "\n",
        "    def __init__(self):\n",
        "        super(LeNet, self).__init__()\n",
        "        # 입력 이미지 채널, 6개의 output 채널, 5x5 정방 합성곱 커널을 사용합니다.\n",
        "        self.conv1 = nn.Conv2d(1, 6, 5)\n",
        "        self.conv2 = nn.Conv2d(6, 16, 5)\n",
        "        # 아핀 변환: y = Wx + b\n",
        "        self.fc1 = nn.Linear(16 * 5 * 5, 120)  # 5x5 이미지 차원\n",
        "        self.fc2 = nn.Linear(120, 84)\n",
        "        self.fc3 = nn.Linear(84, 10)\n",
        "\n",
        "    def forward(self, x):\n",
        "        # 최대 풀링은 (2, 2) 윈도우 크기를 사용합니다.\n",
        "        # CONV, RELU, MAX POOLING\n",
        "        x = F.max_pool2d(F.relu(self.conv1(x)), (2, 2))\n",
        "        # 크기가 정방 사이즈인 경우, 단일 숫자만 지정할 수 있습니다.\n",
        "        # 다시 CONV, RELU, MAX POOLING\n",
        "        x = F.max_pool2d(F.relu(self.conv2(x)), 2)\n",
        "        # 한줄로 펴기\n",
        "        x = x.view(-1, self.num_flat_features(x))\n",
        "        x = F.relu(self.fc1(x))\n",
        "        x = F.relu(self.fc2(x))\n",
        "        x = self.fc3(x)\n",
        "        return x\n",
        "\n",
        "    def num_flat_features(self, x):\n",
        "        size = x.size()[1:]  # 크기는 배치 차원을 제외한 모든 차원을 가져옵니다.\n",
        "        num_features = 1\n",
        "        for s in size:\n",
        "            num_features *= s\n",
        "        return num_features"
      ],
      "metadata": {
        "id": "1ECpZx7I93io"
      },
      "execution_count": null,
      "outputs": []
    },
    {
      "cell_type": "markdown",
      "source": [
        "32 * 32 * 1 => 6 * 28 * 28이 되고, stride=1이기 때문에 아래 수식에 따라서 커널 채널은 5 * 5가 됨\n",
        "- (32 - 5) / 1 + 1 = 28\n",
        "\n",
        "6 * 28 * 28에 stride=2인 pooling 적용하면 6 * 14 * 14가 되고, 6 * 14 * 14에 stride=1인 5 * 5 커널 적용하면 또 16 * 10 * 10이 된다.\n",
        "- (14 - 5)/1 + 1 = 10"
      ],
      "metadata": {
        "id": "Gcz8WWHs-zQ-"
      }
    },
    {
      "cell_type": "markdown",
      "source": [
        "> 자 이제 만든 오브젝트를 인스턴스화하고 샘플 입력을 통해 실행합니다.\n",
        "\n"
      ],
      "metadata": {
        "id": "OCWUXiLL_YSp"
      }
    },
    {
      "cell_type": "code",
      "source": [
        "net = LeNet()\n",
        "print(net)                         # 인스턴스한 객체를 출력하면 어떤 값을 보여줄까요?\n",
        "\n",
        "input = torch.rand(1, 1, 32, 32)   # 32x32 크기의 1채널의 흑백 이미지를 만듭니다.\n",
        "print('\\n이미지 배치 shape:')\n",
        "print(input.shape)\n",
        "\n",
        "output = net(input)                # 객체로부터 직접 forward() 함수를 호출하지 않습니다.\n",
        "print('\\n:결과 값')\n",
        "print(output)\n",
        "print(output.shape)"
      ],
      "metadata": {
        "colab": {
          "base_uri": "https://localhost:8080/"
        },
        "id": "7oskRue1_4Yv",
        "outputId": "c8c3bc5d-4f70-4d6b-98a9-479bf443d526"
      },
      "execution_count": null,
      "outputs": [
        {
          "output_type": "stream",
          "name": "stdout",
          "text": [
            "LeNet(\n",
            "  (conv1): Conv2d(1, 6, kernel_size=(5, 5), stride=(1, 1))\n",
            "  (conv2): Conv2d(6, 16, kernel_size=(5, 5), stride=(1, 1))\n",
            "  (fc1): Linear(in_features=400, out_features=120, bias=True)\n",
            "  (fc2): Linear(in_features=120, out_features=84, bias=True)\n",
            "  (fc3): Linear(in_features=84, out_features=10, bias=True)\n",
            ")\n",
            "\n",
            "이미지 배치 shape:\n",
            "torch.Size([1, 1, 32, 32])\n",
            "\n",
            ":결과 값\n",
            "tensor([[ 0.0898,  0.0318,  0.1485,  0.0301, -0.0085, -0.1135, -0.0296,  0.0164,\n",
            "          0.0039,  0.0616]], grad_fn=<AddmmBackward0>)\n",
            "torch.Size([1, 10])\n"
          ]
        }
      ]
    },
    {
      "cell_type": "markdown",
      "source": [
        "(모델의 인스턴스는 아직 아무것도 학습하지 않았기 때문에 출력에서 좋은 결과를 기대해서는 안 됩니다) output 결과를 확인해보면 batch 차원을 가지고 있다는 것을 알 수 있는데, 크기는 항상 입력 batch 차원과 일치해야 합니다. 만약 16개의 인스턴스로 이루어진 입력으로 모델을 통과했다면 output 는 (16, 10) 의 형태를 가지고 있습니다."
      ],
      "metadata": {
        "id": "Cw86bXtf_7BO"
      }
    },
    {
      "cell_type": "markdown",
      "source": [
        "## Datasets 및 Dataloaders\n",
        "\n",
        "아래 예제에서는 TorchVision에서 바로 다운로드할 수 있는 오픈 데이터셋 중 하나를 사용하여 모델을 통해 이미지를 변환하는 방법, DataLoader를 사용하여 모델에 데이터 배치를 제공하는 방법을 학습합니다.\n",
        "\n",
        "> 첫 번째 할 일은 들어오는 이미지를 Pytorch tensor로 변환하는 것입니다."
      ],
      "metadata": {
        "id": "lgrd2UkjAV-U"
      }
    },
    {
      "cell_type": "code",
      "source": [
        "#%matplotlib inline\n",
        "\n",
        "import torch\n",
        "import torchvision\n",
        "import torchvision.transforms as transforms\n",
        "\n",
        "transform = transforms.Compose(\n",
        "    [transforms.ToTensor(),\n",
        "     transforms.Normalize((0.5, 0.5, 0.5), (0.5, 0.5, 0.5))]\n",
        ")"
      ],
      "metadata": {
        "id": "_FtB1w8EAatD"
      },
      "execution_count": null,
      "outputs": []
    },
    {
      "cell_type": "markdown",
      "source": [
        "- `transforms.ToTensor()`는 Pillow 패키지를 사용하여 불러온 이미지를 PyTorch tensor 형태로 변환합니다.\n",
        "\n",
        "* transforms.Normalize() 는 tensor의 평균이 0.5이고 표준 편차가 0.5가\n",
        "되도록 tensor의 값을 조정합니다. 대부분의 활성화 함수는 약 x=0에 강한 기울기 값을 가지고 있어 데이터를 중앙으로 집중화하여 학습 속도를 높일 수 있습니다.\n",
        "\n",
        "> transforms 는 cropping, centering, rotation, reflection를 포함하여 더 많은 변환이 가능합니다.\n",
        "\n",
        "다음으로 CIFAR10 데이터셋의 인스턴스를 만듭니다. CIFAR10 데이터셋은 동물(새, 고양이, 사슴, 개, 개구리, 말) 6종과 차량(비행기, 자동차, 배, 트럭) 4종의 클래스로 이루어진 데이터셋입니다:"
      ],
      "metadata": {
        "id": "bvuRz-L-Ab1D"
      }
    },
    {
      "cell_type": "code",
      "source": [
        "trainset = torchvision.datasets.CIFAR10(\n",
        "    root='./data', train=True,\n",
        "    download=True, transform=transform\n",
        ")"
      ],
      "metadata": {
        "colab": {
          "base_uri": "https://localhost:8080/"
        },
        "id": "qJmC-R39Akr3",
        "outputId": "55aaa57f-f057-4e44-c11d-a8f799e897c8"
      },
      "execution_count": null,
      "outputs": [
        {
          "output_type": "stream",
          "name": "stdout",
          "text": [
            "Downloading https://www.cs.toronto.edu/~kriz/cifar-10-python.tar.gz to ./data/cifar-10-python.tar.gz\n"
          ]
        },
        {
          "output_type": "stream",
          "name": "stderr",
          "text": [
            "100%|██████████| 170498071/170498071 [00:02<00:00, 63605129.64it/s]\n"
          ]
        },
        {
          "output_type": "stream",
          "name": "stdout",
          "text": [
            "Extracting ./data/cifar-10-python.tar.gz to ./data\n"
          ]
        }
      ]
    },
    {
      "cell_type": "markdown",
      "source": [
        "PyTorch에서 데이터셋 객체를 만드는 예제입니다. 다운로드 가능한 데이터셋 (CIFAR-10과 같은)는 `torch.utils.data.Dataset` 의 하위 클래스입니다. PyTorch의 Dataset 클래스에는 TorchVision, Torchtext 및 TorchAudio 등 다운로드 가능한 데이터셋 뿐 아니라 레이블된 이미지의 폴더를 읽는 `torchvision.datasets`.`ImageFolder` 와 같은 유틸리티 데이터셋 클래스가 포함됩니다. 또한, Dataset 의 하위 클래스를 직접 만들 수 있습니다.\n",
        "\n",
        "> 데이터셋 다운로드가 끝나면 ``DataLoader``에 사용할 수 있습니다:"
      ],
      "metadata": {
        "id": "7DyhtebOAveU"
      }
    },
    {
      "cell_type": "code",
      "source": [
        "trainloader = torch.utils.data.DataLoader(\n",
        "    trainset, batch_size=4,\n",
        "    shuffle=True, num_workers=2\n",
        ")"
      ],
      "metadata": {
        "id": "sRKA0KvIA7so"
      },
      "execution_count": null,
      "outputs": []
    },
    {
      "cell_type": "markdown",
      "source": [
        "Dataset 하위 클래스는 데이터 접근에 대한 클래스를 포함하며, 해당 서브 클래스가 제공하는 데이터 유형에 특화되어 있습니다. DataLoader 는 데이터에 대해 아무것도 알지 못하지만 Dataset 이 제공하는 입력 tensor를 사용자가 지정한 파라미터로 구성합니다.\n",
        "\n",
        "\n",
        "위 예제에서 DataLoader 에서에서 무작위 추출( shuffle=True )한 4개의 batch 이미지를 trainset 에서 추출하고 disk에서 데이터를 로드하기 위해 2개의 workers를 spin up 했습니다.\n",
        "\n",
        "> DataLoader 가 제공하는 batch 이미지를 시각화 하는것은 좋은 연습입니다:"
      ],
      "metadata": {
        "id": "A_y4UIR7Bexd"
      }
    },
    {
      "cell_type": "code",
      "source": [
        "import matplotlib.pyplot as plt\n",
        "import numpy as np\n",
        "\n",
        "classes = ('plane', 'car', 'bird', 'cat',\n",
        "           'deer', 'dog', 'frog', 'horse', 'ship', 'truck')\n",
        "\n",
        "def imshow(img):\n",
        "    img = img / 2 + 0.5     # 역정규화 => 지금 평균 0.5 표편 0.5로 TRANSFORM 했으므로 반대 연산 시킨 것이다.\n",
        "    npimg = img.numpy()\n",
        "    plt.imshow(np.transpose(npimg, (1, 2, 0)))\n",
        "\n",
        "\n",
        "# 무작위로 학습 이미지 추출하기\n",
        "dataiter = iter(trainloader)\n",
        "images, labels = next(dataiter)\n",
        "\n",
        "# 이미지 보여주기\n",
        "imshow(torchvision.utils.make_grid(images))\n",
        "# labels 출력하기\n",
        "print(' '.join('%5s' % classes[labels[j]] for j in range(4)))"
      ],
      "metadata": {
        "colab": {
          "base_uri": "https://localhost:8080/",
          "height": 211
        },
        "id": "74bCL-WdBix7",
        "outputId": "3c921f56-7bc3-4183-9e7b-1a4ea762979c"
      },
      "execution_count": null,
      "outputs": [
        {
          "output_type": "stream",
          "name": "stdout",
          "text": [
            "  car   car   car plane\n"
          ]
        },
        {
          "output_type": "display_data",
          "data": {
            "text/plain": [
              "<Figure size 640x480 with 1 Axes>"
            ],
            "image/png": "[encoded data removed]"
          },
          "metadata": {}
        }
      ]
    },
    {
      "cell_type": "markdown",
      "source": [
        "## PyTorch 모델 학습\n",
        "\n",
        "> 위에서 다뤘던 내용들을 종합하여 모델을 학습시키겠습니다:\n",
        "\n"
      ],
      "metadata": {
        "id": "cPSuDKQYBnRq"
      }
    },
    {
      "cell_type": "code",
      "source": [
        "#%matplotlib inline\n",
        "\n",
        "import torch\n",
        "import torch.nn as nn\n",
        "import torch.nn.functional as F\n",
        "import torch.optim as optim\n",
        "\n",
        "import torchvision\n",
        "import torchvision.transforms as transforms\n",
        "\n",
        "import matplotlib\n",
        "import matplotlib.pyplot as plt\n",
        "import numpy as np"
      ],
      "metadata": {
        "id": "R2ypYcCVCZbm"
      },
      "execution_count": null,
      "outputs": []
    },
    {
      "cell_type": "markdown",
      "source": [
        "첫째로, 학습 및 테스트 데이터셋이 필요합니다. 아직 다운로드하지 않은 경우, 아래 셀을 실행하여 데이터셋이 다운로드 되었는지 확인하세요.(다운로드 시 수 분정도 소요됩니다)"
      ],
      "metadata": {
        "id": "k8BDKZv7Cfox"
      }
    },
    {
      "cell_type": "code",
      "source": [
        "transform = transforms.Compose(\n",
        "    [transforms.ToTensor(),\n",
        "     transforms.Normalize((0.5, 0.5, 0.5), (0.5, 0.5, 0.5))])\n",
        "\n",
        "trainset = torchvision.datasets.CIFAR10(root='./data', train=True,\n",
        "                                        download=True, transform=transform)\n",
        "trainloader = torch.utils.data.DataLoader(trainset, batch_size=4,\n",
        "                                          shuffle=True, num_workers=2)\n",
        "\n",
        "testset = torchvision.datasets.CIFAR10(root='./data', train=False,\n",
        "                                       download=True, transform=transform)\n",
        "testloader = torch.utils.data.DataLoader(testset, batch_size=4,\n",
        "                                         shuffle=False, num_workers=2)\n",
        "\n",
        "classes = ('plane', 'car', 'bird', 'cat',\n",
        "           'deer', 'dog', 'frog', 'horse', 'ship', 'truck')"
      ],
      "metadata": {
        "colab": {
          "base_uri": "https://localhost:8080/"
        },
        "id": "94mCRCYtCdH-",
        "outputId": "cbce59e6-fcd4-4671-833d-59a8f5a44a9d"
      },
      "execution_count": null,
      "outputs": [
        {
          "output_type": "stream",
          "name": "stdout",
          "text": [
            "Files already downloaded and verified\n",
            "Files already downloaded and verified\n"
          ]
        }
      ]
    },
    {
      "cell_type": "markdown",
      "source": [
        "DataLoader 출력을 확인해보겠습니다:"
      ],
      "metadata": {
        "id": "uhoY4iRWChK-"
      }
    },
    {
      "cell_type": "code",
      "source": [
        "import matplotlib.pyplot as plt\n",
        "import numpy as np\n",
        "\n",
        "# 아래 함수는 이미지를 시각화하여 보여주는 함수입니다.\n",
        "\n",
        "\n",
        "def imshow(img):\n",
        "    img = img / 2 + 0.5     # 역정규화\n",
        "    npimg = img.numpy()\n",
        "    plt.imshow(np.transpose(npimg, (1, 2, 0)))\n",
        "\n",
        "\n",
        "# 무작위로 학습 이미지를 가져오기\n",
        "dataiter = iter(trainloader)\n",
        "images, labels = next(dataiter)\n",
        "\n",
        "# 이미지 시각화하기\n",
        "imshow(torchvision.utils.make_grid(images))\n",
        "# 정답 label 출력하기\n",
        "print(' '.join('%5s' % classes[labels[j]] for j in range(4)))"
      ],
      "metadata": {
        "colab": {
          "base_uri": "https://localhost:8080/",
          "height": 211
        },
        "id": "-ut6fwIrCi6l",
        "outputId": "832ee740-ffdf-41c4-938f-3877651ad2e7"
      },
      "execution_count": null,
      "outputs": [
        {
          "output_type": "stream",
          "name": "stdout",
          "text": [
            "horse   dog   car   dog\n"
          ]
        },
        {
          "output_type": "display_data",
          "data": {
            "text/plain": [
              "<Figure size 640x480 with 1 Axes>"
            ],
            "image/png": "[encoded data removed]"
          },
          "metadata": {}
        }
      ]
    },
    {
      "cell_type": "markdown",
      "source": [
        "이제 모델을 학습시킬 차례입니다. 만약 모델 구조가 익숙하게 보인다면, 이 모델은 이번 영상에서 앞서 다뤄진 3채널(color) 이미지에 맞게 변형된 LeNet 모델이기 때문입니다.\n"
      ],
      "metadata": {
        "id": "tLPL7vDxCjys"
      }
    },
    {
      "cell_type": "code",
      "source": [
        "class Net(nn.Module):\n",
        "    def __init__(self):\n",
        "        super(Net, self).__init__()\n",
        "        self.conv1 = nn.Conv2d(3, 6, 5)\n",
        "        self.pool = nn.MaxPool2d(2, 2)\n",
        "        self.conv2 = nn.Conv2d(6, 16, 5)\n",
        "        self.fc1 = nn.Linear(16 * 5 * 5, 120)\n",
        "        self.fc2 = nn.Linear(120, 84)\n",
        "        self.fc3 = nn.Linear(84, 10)\n",
        "\n",
        "    def forward(self, x):\n",
        "        x = self.pool(F.relu(self.conv1(x)))\n",
        "        x = self.pool(F.relu(self.conv2(x)))\n",
        "        x = x.view(-1, 16 * 5 * 5)\n",
        "        x = F.relu(self.fc1(x))\n",
        "        x = F.relu(self.fc2(x))\n",
        "        x = self.fc3(x)\n",
        "        return x\n",
        "\n",
        "\n",
        "net = Net()"
      ],
      "metadata": {
        "id": "7REDn1-HCmEi"
      },
      "execution_count": null,
      "outputs": []
    },
    {
      "cell_type": "markdown",
      "source": [
        "아래는 마지막으로 학습에 필요한 손실 함수 및 최적화 방법입니다.\n",
        "\n",
        "- 손실 함수(loss function)는 데이터 기반으로 모델이 예측한 정답 값이 얼마나 차이가 나는지를 표현하는 지표입니다. Cross-entropy 손실 함수는 일반적인 분류 모델의 전형적인 손실 함수입니다.\n",
        "\n",
        "- optimizer 는 학습의 필수요소입니다. 아래 예제에서 간단한 최적화 알고리즘인 stochastic gradient descent 를 구현하겠습니다. SGD 알고리짐은 학습 속도인 (lr) 및 momentum 과 같은 매개 변수 외에도 모델의 모든 학습 가중치 값인 net.parameters() 를 전달하는데, 이 함수는 최적화를 위해 파라미터를 조정합니다."
      ],
      "metadata": {
        "id": "Z5vGC2JoCoyo"
      }
    },
    {
      "cell_type": "code",
      "source": [
        "criterion = nn.CrossEntropyLoss()\n",
        "optimizer = optim.SGD(net.parameters(), lr=0.001, momentum=0.9)"
      ],
      "metadata": {
        "id": "GeQ12FEIDOxI"
      },
      "execution_count": null,
      "outputs": []
    },
    {
      "cell_type": "markdown",
      "source": [
        "마지막으로, 모든 것이 학습 loop에 들어갑니다. 이제 아래 셀을 실행하세요. 실행 시 몇 분 정도 걸릴 수 있습니다:"
      ],
      "metadata": {
        "id": "gkYFztr3Cqgw"
      }
    },
    {
      "cell_type": "code",
      "source": [
        "# Template\n",
        "\n",
        "net = Net()\n",
        "# criterion => LOSS FUNC\n",
        "# optimizer => SGD\n",
        "\n",
        "# 데이터셋을 여러 번 반복 학습합니다.\n",
        "for epoch in range(2):\n",
        "\n",
        "    running_loss = 0.0\n",
        "    for i, data in enumerate(trainloader, 0):\n",
        "        # 데이터를 통해 이미지와 정답값을 받습니다.\n",
        "        inputs, labels = data\n",
        "\n",
        "        # 초기 기울기 파라미터를 0으로 설정합니다.\n",
        "\n",
        "        # forward + backward + optimize\n",
        "\n",
        "        # epoch 및 loss 값을 출력합니다\n",
        "        if i % 2000 == 1999:    # 2000 mini-batches 마다 값을 출력합니다\n",
        "            print('[%d, %5d] loss: %.3f' %\n",
        "                  (epoch + 1, i + 1, running_loss / 2000))\n",
        "            running_loss = 0.0\n",
        "\n",
        "print('Finished Training')"
      ],
      "metadata": {
        "id": "fXo9w0sCDxCc"
      },
      "execution_count": null,
      "outputs": []
    },
    {
      "cell_type": "code",
      "source": [
        "for epoch in range(2):  # 데이터셋을 여러 번 반복 학습합니다.\n",
        "\n",
        "    running_loss = 0.0\n",
        "    for i, data in enumerate(trainloader, 0):\n",
        "        # 데이터를 통해 이미지와 정답값을 받습니다.\n",
        "        inputs, labels = data\n",
        "\n",
        "        # 초기 기울기 파라미터를 0으로 설정합니다\n",
        "        optimizer.zero_grad()\n",
        "\n",
        "        # forward + backward + optimize\n",
        "        outputs = net(inputs)\n",
        "        loss = criterion(outputs, labels)\n",
        "        loss.backward()\n",
        "        optimizer.step()\n",
        "\n",
        "        # epoch 및 loss 값을 출력합니다\n",
        "        running_loss += loss.item()\n",
        "        if i % 2000 == 1999:    # 2000 mini-batches 마다 값을 출력합니다\n",
        "            print('[%d, %5d] loss: %.3f' %\n",
        "                  (epoch + 1, i + 1, running_loss / 2000))\n",
        "            running_loss = 0.0\n",
        "\n",
        "print('Finished Training')"
      ],
      "metadata": {
        "colab": {
          "base_uri": "https://localhost:8080/"
        },
        "id": "150Z6TOhDTaL",
        "outputId": "9620fce0-01b4-4811-f057-e43ec7f67bea"
      },
      "execution_count": null,
      "outputs": [
        {
          "output_type": "stream",
          "name": "stdout",
          "text": [
            "[1,  2000] loss: 2.220\n",
            "[1,  4000] loss: 1.888\n",
            "[1,  6000] loss: 1.709\n",
            "[1,  8000] loss: 1.597\n",
            "[1, 10000] loss: 1.538\n",
            "[1, 12000] loss: 1.473\n",
            "[2,  2000] loss: 1.405\n",
            "[2,  4000] loss: 1.355\n",
            "[2,  6000] loss: 1.361\n",
            "[2,  8000] loss: 1.308\n",
            "[2, 10000] loss: 1.295\n",
            "[2, 12000] loss: 1.271\n",
            "Finished Training\n"
          ]
        }
      ]
    },
    {
      "cell_type": "markdown",
      "source": [
        "마지막 단계로 모델이 단순하게 학습 데이터셋을 “기억” 하는 것이 아니라 실제로 일반화 학습을 잘 수행하고 있는 확인해야 합니다. 이를 과적합 이라 부르며 일반적으로 데이터셋이 너무 작거나, 모델이 데이터셋 을 올바르게 모델링하는 데 필요한 것보다 더 많은 학습 파라미터 변수를 가지고 있음을 보여줍니다. (일반적인 학습에 충분한 예제가 아닙니다)\n",
        "\n",
        "위와 같이 데이터셋이 학습 및 테스트 데이터셋으로 분할되는 이유입니다. 모델의 일반성을 테스트하기 위해 학습되지 않은 데이터에 대해 예측하도록 요청합니다:"
      ],
      "metadata": {
        "id": "skBXhKj_DU0c"
      }
    },
    {
      "cell_type": "code",
      "source": [
        "correct = 0\n",
        "total = 0\n",
        "with torch.no_grad():\n",
        "    for data in testloader:\n",
        "        images, labels = data\n",
        "        outputs = net(images)\n",
        "        _, predicted = torch.max(outputs.data, 1)\n",
        "        total += labels.size(0)\n",
        "        correct += (predicted == labels).sum().item()\n",
        "\n",
        "print('10000개 테스트 이미지에서 모델 정확도: %d %%' % (100 * correct / total))"
      ],
      "metadata": {
        "colab": {
          "base_uri": "https://localhost:8080/"
        },
        "id": "Jb7oH907EQpX",
        "outputId": "28da8896-61bb-4fb0-d0f4-949520e5daf0"
      },
      "execution_count": null,
      "outputs": [
        {
          "output_type": "stream",
          "name": "stdout",
          "text": [
            "10000개 테스트 이미지에서 모델 정확도: 56 %\n"
          ]
        }
      ]
    },
    {
      "cell_type": "code",
      "source": [],
      "metadata": {
        "id": "at3OsrLREWwV"
      },
      "execution_count": null,
      "outputs": []
    }
  ]
}